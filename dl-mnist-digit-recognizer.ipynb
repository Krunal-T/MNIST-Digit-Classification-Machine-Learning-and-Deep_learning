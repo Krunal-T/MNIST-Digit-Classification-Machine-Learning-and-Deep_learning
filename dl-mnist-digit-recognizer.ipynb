{
 "cells": [
  {
   "cell_type": "code",
   "execution_count": 1,
   "metadata": {
    "execution": {
     "iopub.execute_input": "2021-09-07T06:35:15.643884Z",
     "iopub.status.busy": "2021-09-07T06:35:15.643402Z",
     "iopub.status.idle": "2021-09-07T06:35:20.014542Z",
     "shell.execute_reply": "2021-09-07T06:35:20.013623Z",
     "shell.execute_reply.started": "2021-09-07T06:35:15.643772Z"
    }
   },
   "outputs": [],
   "source": [
    "import numpy as np\n",
    "import tensorflow as tf\n",
    "\n",
    "from tensorflow.keras.datasets import mnist\n",
    "from tensorflow.keras.models import Sequential\n",
    "from tensorflow.keras.layers import Dense , LSTM , Dropout\n"
   ]
  },
  {
   "cell_type": "code",
   "execution_count": 2,
   "metadata": {
    "execution": {
     "iopub.execute_input": "2021-09-07T06:35:22.744441Z",
     "iopub.status.busy": "2021-09-07T06:35:22.744123Z",
     "iopub.status.idle": "2021-09-07T06:35:23.303710Z",
     "shell.execute_reply": "2021-09-07T06:35:23.302886Z",
     "shell.execute_reply.started": "2021-09-07T06:35:22.744413Z"
    }
   },
   "outputs": [],
   "source": [
    "# Running on my machine.\n",
    "(Xtrain , Ytrain), (Xtest , Ytest) = mnist.load_data()"
   ]
  },
  {
   "cell_type": "code",
   "execution_count": 3,
   "metadata": {},
   "outputs": [],
   "source": [
    "Xtrain = Xtrain/255\n",
    "Xtest = Xtest/255"
   ]
  },
  {
   "cell_type": "code",
   "execution_count": 4,
   "metadata": {
    "execution": {
     "iopub.execute_input": "2021-09-07T06:35:24.924878Z",
     "iopub.status.busy": "2021-09-07T06:35:24.924529Z",
     "iopub.status.idle": "2021-09-07T06:35:24.930782Z",
     "shell.execute_reply": "2021-09-07T06:35:24.929665Z",
     "shell.execute_reply.started": "2021-09-07T06:35:24.924841Z"
    }
   },
   "outputs": [
    {
     "name": "stdout",
     "output_type": "stream",
     "text": [
      "(60000, 28, 28)\n",
      "(60000,)\n",
      "(10000, 28, 28)\n",
      "(10000,)\n"
     ]
    }
   ],
   "source": [
    "print(Xtrain.shape)\n",
    "print(Ytrain.shape)\n",
    "print(Xtest.shape)\n",
    "print(Ytest.shape)\n",
    "#print(Xtrain.shape[1:])"
   ]
  },
  {
   "cell_type": "code",
   "execution_count": 8,
   "metadata": {},
   "outputs": [
    {
     "name": "stdout",
     "output_type": "stream",
     "text": [
      "Model: \"sequential_1\"\n",
      "_________________________________________________________________\n",
      "Layer (type)                 Output Shape              Param #   \n",
      "=================================================================\n",
      "lstm_2 (LSTM)                (None, 28, 128)           80384     \n",
      "_________________________________________________________________\n",
      "dropout_3 (Dropout)          (None, 28, 128)           0         \n",
      "_________________________________________________________________\n",
      "lstm_3 (LSTM)                (None, 128)               131584    \n",
      "_________________________________________________________________\n",
      "dropout_4 (Dropout)          (None, 128)               0         \n",
      "_________________________________________________________________\n",
      "dense_2 (Dense)              (None, 32)                4128      \n",
      "_________________________________________________________________\n",
      "dropout_5 (Dropout)          (None, 32)                0         \n",
      "_________________________________________________________________\n",
      "dense_3 (Dense)              (None, 10)                330       \n",
      "=================================================================\n",
      "Total params: 216,426\n",
      "Trainable params: 216,426\n",
      "Non-trainable params: 0\n",
      "_________________________________________________________________\n"
     ]
    }
   ],
   "source": [
    "model = Sequential()\n",
    "\n",
    "model.add(LSTM(128,input_shape =(Xtrain.shape[1:]), activation = \"relu\",return_sequences =True))\n",
    "model.add(Dropout(0.2))\n",
    "\n",
    "model.add(LSTM(128))\n",
    "model.add(Dropout(0.1))\n",
    "\n",
    "model.add(Dense(32,activation = \"relu\"))\n",
    "model.add(Dropout(0.2))\n",
    "\n",
    "model.add(Dense(10,activation = \"softmax\"))\n",
    "\n",
    "model.summary()"
   ]
  },
  {
   "cell_type": "code",
   "execution_count": 9,
   "metadata": {
    "execution": {
     "iopub.execute_input": "2021-09-07T06:35:32.868605Z",
     "iopub.status.busy": "2021-09-07T06:35:32.868272Z",
     "iopub.status.idle": "2021-09-07T06:35:32.885138Z",
     "shell.execute_reply": "2021-09-07T06:35:32.884259Z",
     "shell.execute_reply.started": "2021-09-07T06:35:32.868576Z"
    }
   },
   "outputs": [],
   "source": [
    "#opt = tf.keras.optimizers.Adam(lr=0.001, decay=1e-6)\n",
    "\n",
    "model.compile(optimizer=\"adam\",\n",
    "              loss= \"sparse_categorical_crossentropy\",\n",
    "              metrics = [\"accuracy\"])"
   ]
  },
  {
   "cell_type": "code",
   "execution_count": 10,
   "metadata": {
    "execution": {
     "iopub.execute_input": "2021-09-07T06:35:37.923706Z",
     "iopub.status.busy": "2021-09-07T06:35:37.923364Z",
     "iopub.status.idle": "2021-09-07T06:38:36.540000Z",
     "shell.execute_reply": "2021-09-07T06:38:36.539202Z",
     "shell.execute_reply.started": "2021-09-07T06:35:37.923657Z"
    }
   },
   "outputs": [
    {
     "name": "stdout",
     "output_type": "stream",
     "text": [
      "Train on 60000 samples, validate on 10000 samples\n",
      "Epoch 1/5\n",
      "60000/60000 [==============================] - 33s 555us/sample - loss: 0.3973 - accuracy: 0.8778 - val_loss: 0.1431 - val_accuracy: 0.9562\n",
      "Epoch 2/5\n",
      "60000/60000 [==============================] - 32s 537us/sample - loss: 0.1234 - accuracy: 0.9668 - val_loss: 0.0751 - val_accuracy: 0.9769\n",
      "Epoch 3/5\n",
      "60000/60000 [==============================] - 33s 554us/sample - loss: 0.0877 - accuracy: 0.9764 - val_loss: 0.0749 - val_accuracy: 0.9794\n",
      "Epoch 4/5\n",
      "60000/60000 [==============================] - 33s 551us/sample - loss: 0.0672 - accuracy: 0.9817 - val_loss: 0.0524 - val_accuracy: 0.9851\n",
      "Epoch 5/5\n",
      "60000/60000 [==============================] - 32s 540us/sample - loss: 0.0592 - accuracy: 0.9845 - val_loss: 0.0596 - val_accuracy: 0.9828\n"
     ]
    },
    {
     "data": {
      "text/plain": [
       "<tensorflow.python.keras.callbacks.History at 0x21333230888>"
      ]
     },
     "execution_count": 10,
     "metadata": {},
     "output_type": "execute_result"
    }
   ],
   "source": [
    "model.fit(Xtrain,Ytrain , epochs = 5, validation_data = (Xtest, Ytest))"
   ]
  },
  {
   "cell_type": "code",
   "execution_count": 11,
   "metadata": {
    "execution": {
     "iopub.execute_input": "2021-09-07T06:38:45.484302Z",
     "iopub.status.busy": "2021-09-07T06:38:45.483968Z",
     "iopub.status.idle": "2021-09-07T06:38:47.286632Z",
     "shell.execute_reply": "2021-09-07T06:38:47.285760Z",
     "shell.execute_reply.started": "2021-09-07T06:38:45.484272Z"
    }
   },
   "outputs": [
    {
     "name": "stdout",
     "output_type": "stream",
     "text": [
      "10000/10000 [==============================] - 2s 164us/sample - loss: 0.0596 - accuracy: 0.9828\n"
     ]
    }
   ],
   "source": [
    "loss , accuracy = model.evaluate(Xtest, Ytest )"
   ]
  },
  {
   "cell_type": "code",
   "execution_count": 12,
   "metadata": {
    "execution": {
     "iopub.execute_input": "2021-09-07T06:38:50.003951Z",
     "iopub.status.busy": "2021-09-07T06:38:50.003497Z",
     "iopub.status.idle": "2021-09-07T06:38:50.009589Z",
     "shell.execute_reply": "2021-09-07T06:38:50.008602Z",
     "shell.execute_reply.started": "2021-09-07T06:38:50.003913Z"
    }
   },
   "outputs": [
    {
     "name": "stdout",
     "output_type": "stream",
     "text": [
      "Loss on test : 0.05955412528244779\n",
      "Accuracy on test : 98.28 %\n"
     ]
    }
   ],
   "source": [
    "print(\"Loss on test :\",loss)\n",
    "print(\"Accuracy on test :\",round(accuracy*100,2),\"%\")"
   ]
  },
  {
   "cell_type": "code",
   "execution_count": null,
   "metadata": {},
   "outputs": [],
   "source": []
  }
 ],
 "metadata": {
  "kernelspec": {
   "display_name": "Python 3",
   "language": "python",
   "name": "python3"
  },
  "language_info": {
   "codemirror_mode": {
    "name": "ipython",
    "version": 3
   },
   "file_extension": ".py",
   "mimetype": "text/x-python",
   "name": "python",
   "nbconvert_exporter": "python",
   "pygments_lexer": "ipython3",
   "version": "3.7.10"
  }
 },
 "nbformat": 4,
 "nbformat_minor": 4
}
